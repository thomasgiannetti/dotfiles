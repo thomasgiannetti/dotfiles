{
  "nbformat": 4,
  "nbformat_minor": 0,
  "metadata": {
    "kernelspec": {
      "display_name": "Python 3",
      "language": "python",
      "name": "python3"
    },
    "language_info": {
      "codemirror_mode": {
        "name": "ipython",
        "version": 3
      },
      "file_extension": ".py",
      "mimetype": "text/x-python",
      "name": "python",
      "nbconvert_exporter": "python",
      "pygments_lexer": "ipython3",
      "version": "3.7.6"
    },
    "toc": {
      "base_numbering": 1,
      "nav_menu": {},
      "number_sections": false,
      "sideBar": true,
      "skip_h1_title": false,
      "title_cell": "Table of Contents",
      "title_sidebar": "Contents",
      "toc_cell": false,
      "toc_position": {},
      "toc_section_display": true,
      "toc_window_display": false
    },
    "colab": {
      "name": "your_first_rnn.ipynb",
      "provenance": [],
      "collapsed_sections": [],
      "include_colab_link": true
    }
  },
  "cells": [
    {
      "cell_type": "markdown",
      "metadata": {
        "id": "view-in-github",
        "colab_type": "text"
      },
      "source": [
        "<a href=\"https://colab.research.google.com/github/thomasgiannetti/dotfiles/blob/master/your_first_rnn.ipynb\" target=\"_parent\"><img src=\"https://colab.research.google.com/assets/colab-badge.svg\" alt=\"Open In Colab\"/></a>"
      ]
    },
    {
      "cell_type": "markdown",
      "metadata": {
        "id": "xSG201zI_Xaw"
      },
      "source": [
        "# Deep Learning - Day 4 - Exercise 1\n",
        "\n",
        "You will here build your first Recurrent Neural Network (RNN). Not to consider to complex data, we will here just make the model compile and run on random data, to see the effect of the different options and parameters. So no need to interpret the results here.\n",
        "\n",
        "\n",
        "# The data\n",
        "\n",
        "We will create fake/random data here. \n",
        "\n",
        "❓ **Question** ❓ Create fake data where :\n",
        "- Each observation is of size 3: `[2.2, 3.8, -1.2]` for instance.\n",
        "- The first sequence `X_1` has 4 observations. \n",
        "- The first sequence `X_2` has 7 observations. \n",
        "- The third sequence `X_3` has 1 observation. \n",
        "- The last sequence `X_4` has 3 observations.\n",
        "- Each output `y_1` to`y_4` is a scalar value - let's say that it will be a regression task with one value to predict\n",
        "\n",
        "❗ **Remark** ❗ You can image that each observation corresponds to a job experience where the three features are (duration of the job, salary of the job, number of person under your responsability). And `X_1` thus corresponds to a sequence of 3 jobs, that someone has done. Same goes for `X_2` that is a sequence of 7 jobs, `X_3` and `X_4`. And the $y$ corresponds to the salary of the next job that you are trying to predict.\n",
        "\n",
        "❗ **Remark** ❗ Make sure that some of the data are floats, not integers.\n",
        "\n",
        "Hint: You can, for instance, use `numpy.random.normal`\n",
        "\n",
        "\n",
        "\n",
        "At the end, the data should be store in $X$ and $y$ "
      ]
    },
    {
      "cell_type": "code",
      "metadata": {
        "id": "kr-E4jgD_Xax"
      },
      "source": [
        "import numpy as np \n",
        "from numpy import random\n",
        "\n",
        "\n",
        "X_1 = np.random.normal(0,10, size = (4,3))\n",
        "X_2 = np.random.normal(0,10, size = (7,3))\n",
        "X_3 = np.random.normal(0,10, size = (1,3))\n",
        "X_4 = np.random.normal(0,10, size = (3,3))\n",
        "\n",
        "y_1 = 1187\n",
        "y_2 = 3160\n",
        "y_3 = 3430\n",
        "y_4 = 1270\n",
        "\n",
        "X = np.array([X_1, X_2, X_3, X_4])\n",
        "y = np.array([y_1, y_2, y_3, y_4])"
      ],
      "execution_count": 21,
      "outputs": []
    },
    {
      "cell_type": "markdown",
      "metadata": {
        "id": "c_2SJdtd_Xa1"
      },
      "source": [
        "You remember that we pass a batch of data to the neural network. Thus, the tensor will has the following shape (batch_size, number_of_observations, size_of_observation).\n",
        "\n",
        "While size_of_observation is the same (=3) for all the sequences, the number_of_observations is different for each sequence. But it can't be like that in practice, for computational reason. So we will have (batch_size, max(number_of_observations), size_of_observation), so that each sequence has the same size.\n",
        "\n",
        "We will do that we the `pad_sequences` function of keras. It basically adds 0 to fill in the blank.\n",
        "\n",
        "❓ **Question** ❓ Use the `pad_sequences` function on X directly (without extra arguments here), store the result in `X_pad` and print it"
      ]
    },
    {
      "cell_type": "code",
      "metadata": {
        "id": "TfxEETda_Xa2",
        "outputId": "3ad19a4f-dd9a-43be-854b-6534f1403136",
        "colab": {
          "base_uri": "https://localhost:8080/"
        }
      },
      "source": [
        "from tensorflow.keras.preprocessing.sequence import pad_sequences\n",
        "\n",
        "X_pad = pad_sequences(X)\n",
        "X_pad"
      ],
      "execution_count": 23,
      "outputs": [
        {
          "output_type": "execute_result",
          "data": {
            "text/plain": [
              "array([[[  0,   0,   0],\n",
              "        [  0,   0,   0],\n",
              "        [  0,   0,   0],\n",
              "        [  0,   7,  -9],\n",
              "        [-15,  -4,   1],\n",
              "        [ 14,   1, -14],\n",
              "        [-26,   4,   7]],\n",
              "\n",
              "       [[  5,  -5, -10],\n",
              "        [ 15,   3, -24],\n",
              "        [ 11,  13,   6],\n",
              "        [ -6, -10,  -4],\n",
              "        [ -5,  17,  -7],\n",
              "        [  4, -11,  -7],\n",
              "        [ -1,   2,   1]],\n",
              "\n",
              "       [[  0,   0,   0],\n",
              "        [  0,   0,   0],\n",
              "        [  0,   0,   0],\n",
              "        [  0,   0,   0],\n",
              "        [  0,   0,   0],\n",
              "        [  0,   0,   0],\n",
              "        [-11,  -4,  14]],\n",
              "\n",
              "       [[  0,   0,   0],\n",
              "        [  0,   0,   0],\n",
              "        [  0,   0,   0],\n",
              "        [  0,   0,   0],\n",
              "        [ -7,   6,  14],\n",
              "        [-18,   3,   6],\n",
              "        [-11,  16,  -7]]], dtype=int32)"
            ]
          },
          "metadata": {
            "tags": []
          },
          "execution_count": 23
        }
      ]
    },
    {
      "cell_type": "markdown",
      "metadata": {
        "id": "3aZKD2js_Xa6"
      },
      "source": [
        "❓ **Question** ❓ You probably see that the returned data are integers, instead of float. To change that, turn the `dtype` argument to `float32`. Moreover, add the `0` at the end of the sequence thanks to the `padding` argument. And finally, in the case where your fake data contains the `0` values, you cannot pad with `0`, so choose another value with the `value` keyword.\n",
        "\n",
        "❗ **Remark** ❗ Store the new result in `X_pad` and print it to be sure \n",
        "\n",
        "[See full documentation here](https://www.tensorflow.org/api_docs/python/tf/keras/preprocessing/sequence/pad_sequences)"
      ]
    },
    {
      "cell_type": "code",
      "metadata": {
        "id": "rDMplNn4_Xa6",
        "outputId": "050da195-8d31-4b10-c2d9-269c9628988d",
        "colab": {
          "base_uri": "https://localhost:8080/"
        }
      },
      "source": [
        "X_pad = pad_sequences(X, dtype= 'float32')\n",
        "X_pad"
      ],
      "execution_count": 25,
      "outputs": [
        {
          "output_type": "execute_result",
          "data": {
            "text/plain": [
              "array([[[  0.        ,   0.        ,   0.        ],\n",
              "        [  0.        ,   0.        ,   0.        ],\n",
              "        [  0.        ,   0.        ,   0.        ],\n",
              "        [  0.02750805,   7.219553  ,  -9.384193  ],\n",
              "        [-15.965339  ,  -4.1666775 ,   1.6476686 ],\n",
              "        [ 14.740024  ,   1.0163573 , -14.4203825 ],\n",
              "        [-26.276098  ,   4.367518  ,   7.2126975 ]],\n",
              "\n",
              "       [[  5.9514465 ,  -5.794809  , -10.53681   ],\n",
              "        [ 15.35759   ,   3.3547924 , -24.008545  ],\n",
              "        [ 11.27538   ,  13.289081  ,   6.280439  ],\n",
              "        [ -6.547479  , -10.354711  ,  -4.4429703 ],\n",
              "        [ -5.4258075 ,  17.317484  ,  -7.742754  ],\n",
              "        [  4.4599166 , -11.102633  ,  -7.68347   ],\n",
              "        [ -1.4227264 ,   2.2310643 ,   1.5362968 ]],\n",
              "\n",
              "       [[  0.        ,   0.        ,   0.        ],\n",
              "        [  0.        ,   0.        ,   0.        ],\n",
              "        [  0.        ,   0.        ,   0.        ],\n",
              "        [  0.        ,   0.        ,   0.        ],\n",
              "        [  0.        ,   0.        ,   0.        ],\n",
              "        [  0.        ,   0.        ,   0.        ],\n",
              "        [-11.736157  ,  -4.2584653 ,  14.140602  ]],\n",
              "\n",
              "       [[  0.        ,   0.        ,   0.        ],\n",
              "        [  0.        ,   0.        ,   0.        ],\n",
              "        [  0.        ,   0.        ,   0.        ],\n",
              "        [  0.        ,   0.        ,   0.        ],\n",
              "        [ -7.826382  ,   6.4695773 ,  14.726733  ],\n",
              "        [-18.6466    ,   3.660226  ,   6.2388506 ],\n",
              "        [-11.274487  ,  16.822987  ,  -7.4491277 ]]], dtype=float32)"
            ]
          },
          "metadata": {
            "tags": []
          },
          "execution_count": 25
        }
      ]
    },
    {
      "cell_type": "markdown",
      "metadata": {
        "id": "Lks66BWJ_Xa-"
      },
      "source": [
        "❓ **Question** ❓ Print the `X_pad` shape. Check that the assert is verified"
      ]
    },
    {
      "cell_type": "code",
      "metadata": {
        "id": "ksvdAiYKFZOB",
        "outputId": "5226a5d6-52b4-434b-b5f9-d939ef0955aa",
        "colab": {
          "base_uri": "https://localhost:8080/"
        }
      },
      "source": [
        "print(X_pad.shape)"
      ],
      "execution_count": 28,
      "outputs": [
        {
          "output_type": "stream",
          "text": [
            "(4, 7, 3)\n"
          ],
          "name": "stdout"
        }
      ]
    },
    {
      "cell_type": "code",
      "metadata": {
        "id": "xodxNgpL_Xa-"
      },
      "source": [
        "assert(X_pad.shape == (4, 7, 3))"
      ],
      "execution_count": 33,
      "outputs": []
    },
    {
      "cell_type": "markdown",
      "metadata": {
        "id": "XlOTHPJk_XbC"
      },
      "source": [
        "# The model\n",
        "\n",
        "Now, you will create your first Recurrent Neural Network.\n",
        "\n",
        "❓ **Question** ❓ Write a model that has: \n",
        "- a first Masking layer whose role is computational only: as you have padded the input data, you have to 'un-pad' them so that the Network does not use the padded values.\n",
        "- a second LSTM layer ; choose any `units` number but don't forget to choose the `tanh` activation function\n",
        "- a last Dense layer specific to your task\n",
        "\n",
        "❗ **Remark** ❗ If you have padded your input data with values different from 0, you should inform the Masking layer about that."
      ]
    },
    {
      "cell_type": "code",
      "metadata": {
        "id": "jXoMy2mc_XbC"
      },
      "source": [
        "from tensorflow.keras.models import Sequential\n",
        "from tensorflow.keras import layers\n",
        "\n",
        "model = Sequential()\n",
        "model.add(layers.Masking(mask_value=0))\n",
        "model.add(layers.LSTM(units=1, activation='tanh')) \n",
        "model.add(layers.Dense(1, activation='linear'))"
      ],
      "execution_count": 34,
      "outputs": []
    },
    {
      "cell_type": "markdown",
      "metadata": {
        "id": "i7nJfk1U_XbE"
      },
      "source": [
        "❓ **Question** ❓ Compile your model. Remember to first use the `rmsprop` optimizer (instead of Adam)."
      ]
    },
    {
      "cell_type": "code",
      "metadata": {
        "id": "o9GLZBeG_XbF"
      },
      "source": [
        "model.compile(loss='mse', \n",
        "              optimizer='rmsprop')"
      ],
      "execution_count": 35,
      "outputs": []
    },
    {
      "cell_type": "markdown",
      "metadata": {
        "id": "3A9lCv5a_XbJ"
      },
      "source": [
        "❓ **Question** ❓ Run your model on your data. Do not use any validation set nor early stopping criterion as this are fake data here"
      ]
    },
    {
      "cell_type": "code",
      "metadata": {
        "id": "Zf4tJszX_XbK",
        "outputId": "4e4ffcae-efda-47a6-b565-9c7d83d487d1",
        "colab": {
          "base_uri": "https://localhost:8080/"
        }
      },
      "source": [
        "model.fit(X_pad, y)"
      ],
      "execution_count": 36,
      "outputs": [
        {
          "output_type": "stream",
          "text": [
            "1/1 [==============================] - 0s 1ms/step - loss: 6192963.0000\n"
          ],
          "name": "stdout"
        },
        {
          "output_type": "execute_result",
          "data": {
            "text/plain": [
              "<tensorflow.python.keras.callbacks.History at 0x7fbb4aa8e7f0>"
            ]
          },
          "metadata": {
            "tags": []
          },
          "execution_count": 36
        }
      ]
    },
    {
      "cell_type": "markdown",
      "metadata": {
        "id": "8rzuGD6L_XbM"
      },
      "source": [
        "❓ **Question** ❓ Now, build Neural Network whose RNN part is a `GRU`. Compile it and fit it then."
      ]
    },
    {
      "cell_type": "code",
      "metadata": {
        "id": "6cWJwx8e_XbN",
        "outputId": "6d18649a-81c2-42b3-e57a-d24134a42654",
        "colab": {
          "base_uri": "https://localhost:8080/"
        }
      },
      "source": [
        "model = Sequential()\n",
        "model.add(layers.Masking(mask_value=0))\n",
        "model.add(layers.GRU(units=1, activation='tanh')) \n",
        "model.add(layers.Dense(1, activation='linear'))\n",
        "model.compile(loss='mse', \n",
        "              optimizer='rmsprop')\n",
        "model.fit(X_pad, y)"
      ],
      "execution_count": 37,
      "outputs": [
        {
          "output_type": "stream",
          "text": [
            "1/1 [==============================] - 0s 1ms/step - loss: 6190489.0000\n"
          ],
          "name": "stdout"
        },
        {
          "output_type": "execute_result",
          "data": {
            "text/plain": [
              "<tensorflow.python.keras.callbacks.History at 0x7fbb47980668>"
            ]
          },
          "metadata": {
            "tags": []
          },
          "execution_count": 37
        }
      ]
    },
    {
      "cell_type": "markdown",
      "metadata": {
        "id": "zcOXcaRJ_XbQ"
      },
      "source": [
        "# Well done!\n",
        "\n",
        "## You now know how to run RNN on sequence data!"
      ]
    },
    {
      "cell_type": "code",
      "metadata": {
        "id": "0Oj7jZ5u_XbR"
      },
      "source": [
        ""
      ],
      "execution_count": null,
      "outputs": []
    }
  ]
}